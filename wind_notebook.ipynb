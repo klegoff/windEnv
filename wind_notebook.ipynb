{
 "cells": [
  {
   "cell_type": "code",
   "execution_count": 3,
   "metadata": {},
   "outputs": [
    {
     "name": "stdout",
     "output_type": "stream",
     "text": [
      "windEnv.py  wind_notebook.ipynb\r\n"
     ]
    }
   ],
   "source": [
    "!ls"
   ]
  },
  {
   "cell_type": "code",
   "execution_count": 4,
   "metadata": {},
   "outputs": [],
   "source": [
    "import numpy as np\n",
    "import copy\n",
    "from windEnv import *"
   ]
  },
  {
   "cell_type": "code",
   "execution_count": 5,
   "metadata": {},
   "outputs": [],
   "source": [
    "# create wind array\n",
    "shape = (7,10)\n",
    "wind = np.zeros(shape,dtype=int)\n",
    "wind[:,[3,4,5,8]] = 1\n",
    "wind[:,[6,7]] = 2\n",
    "\n",
    "#goal location (y,x)\n",
    "goal = [3,7]\n",
    "\n",
    "#starting point (y,x)\n",
    "start = [3,0]\n",
    "\n",
    "#create env :\n",
    "env = WindyEnv(wind, goal, start)\n",
    "\n",
    "epsilon = 0.1\n",
    "gamma = 0.9\n",
    "alpha = 0.5\n",
    "q=None\n",
    "\n",
    "N_gen = 10\n",
    "max_step = 100"
   ]
  },
  {
   "cell_type": "code",
   "execution_count": 6,
   "metadata": {},
   "outputs": [],
   "source": [
    "# train\n",
    "q_list = []\n",
    "for n in range(N_gen):\n",
    "    agent = qlearning_agent(epsilon, env,gamma,alpha,q)\n",
    "    step = 0\n",
    "    while step<max_step and agent.state != env.goal:\n",
    "        step+=1\n",
    "        agent.fitstep(env)\n",
    "    q=copy.deepcopy(agent.q)\n",
    "    q_list.append(q)\n",
    "    #print(n,\"gen.,\\n\", step,\"step(s)\")\n",
    "    #agent.show(env)"
   ]
  },
  {
   "cell_type": "code",
   "execution_count": 7,
   "metadata": {},
   "outputs": [],
   "source": [
    "# which states are explored ?\n",
    "agent = qlearning_agent(epsilon, env,gamma,alpha,q=None)\n",
    "state_list=[]\n",
    "\n",
    "for i in range(1000):\n",
    "    agent.fitstep(env)\n",
    "    state_list.append(copy.deepcopy(agent.state))"
   ]
  }
 ],
 "metadata": {
  "kernelspec": {
   "display_name": "Python 3",
   "language": "python",
   "name": "python3"
  },
  "language_info": {
   "codemirror_mode": {
    "name": "ipython",
    "version": 3
   },
   "file_extension": ".py",
   "mimetype": "text/x-python",
   "name": "python",
   "nbconvert_exporter": "python",
   "pygments_lexer": "ipython3",
   "version": "3.8.5"
  }
 },
 "nbformat": 4,
 "nbformat_minor": 4
}
